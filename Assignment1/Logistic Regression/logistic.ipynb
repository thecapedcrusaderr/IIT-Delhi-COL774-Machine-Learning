{
 "cells": [
  {
   "cell_type": "code",
   "execution_count": 1,
   "metadata": {},
   "outputs": [],
   "source": [
    "import numpy as np\n",
    "import pandas as pd\n",
    "import matplotlib.pyplot as plt\n",
    "import math\n",
    "import time"
   ]
  },
  {
   "cell_type": "code",
   "execution_count": 2,
   "metadata": {},
   "outputs": [],
   "source": [
    "loadX=pd.read_csv(\"logisticX.csv\",header=None)\n",
    "loadY=pd.read_csv(\"logisticY.csv\",header=None)\n",
    "loadX=np.array(loadX)\n",
    "# print(loadX)\n",
    "X1 = ((loadX - loadX.mean(axis=0))/loadX.std(axis=0)).T\n",
    "# print(X1)\n",
    "# print(X1[0])\n",
    "x=np.array((np.ones(100),X1[0],X1[1])).T\n",
    "# print(x)\n",
    "# X = np.vstack((np.ones(X1.shape[0]), X1))"
   ]
  },
  {
   "cell_type": "code",
   "execution_count": 3,
   "metadata": {},
   "outputs": [
    {
     "data": {
      "text/plain": [
       "(100, 3)"
      ]
     },
     "execution_count": 3,
     "metadata": {},
     "output_type": "execute_result"
    }
   ],
   "source": [
    "x.shape"
   ]
  },
  {
   "cell_type": "code",
   "execution_count": 4,
   "metadata": {},
   "outputs": [],
   "source": [
    "# print(\"printing after normalization\")\n",
    "\n",
    "# print(x)\n",
    "# print(x.shape)\n",
    "\n",
    "y=np.array(loadY)\n",
    "\n",
    "# print(y.shape)\n",
    "theta=np.zeros((3,1))\n",
    "# print(theta)"
   ]
  },
  {
   "cell_type": "code",
   "execution_count": 5,
   "metadata": {},
   "outputs": [],
   "source": [
    "def gZ(x):\n",
    "    global theta\n",
    "    temp=np.dot(x,theta)\n",
    "    out = [1/(1+math.exp(-1*i)) for i in temp]\n",
    "    out=np.asarray(out)\n",
    "    out=out.reshape(100,1)\n",
    "    return out\n"
   ]
  },
  {
   "cell_type": "code",
   "execution_count": 6,
   "metadata": {},
   "outputs": [],
   "source": [
    "def hessian(x,gz):\n",
    "    temp1=gz\n",
    "    temp2=1-gz\n",
    "\n",
    "    diagonal=temp1*temp2\n",
    "    diagonal=diagonal.T\n",
    "    \n",
    "\n",
    "    req=np.diag(diagonal[0])\n",
    "    temp3=np.dot(x.T,req)\n",
    "    temp4=np.dot(temp3,x)\n",
    "\n",
    "    hessian=-1*temp4\n",
    "\n",
    "    return hessian\n"
   ]
  },
  {
   "cell_type": "code",
   "execution_count": 7,
   "metadata": {},
   "outputs": [],
   "source": [
    "def gradient(y,gz,x):\n",
    "    temp1=y-gz\n",
    "    temp=temp1.T\n",
    "    prod=np.dot(temp,x)\n",
    "    return prod.T"
   ]
  },
  {
   "cell_type": "code",
   "execution_count": 8,
   "metadata": {},
   "outputs": [
    {
     "name": "stdout",
     "output_type": "stream",
     "text": [
      "[[ 0.40125316]\n",
      " [ 2.5885477 ]\n",
      " [-2.72558849]]\n",
      "(3, 1)\n"
     ]
    }
   ],
   "source": [
    "def logisticRegression(x,y):\n",
    "    global theta\n",
    "    theta=np.zeros((3,1))\n",
    "    for i in range(8):\n",
    "        gzCall=gZ(x)\n",
    "#         print(gzCall.shape)\n",
    "        hess=hessian(x,gzCall)\n",
    "#         print(hess.shape)\n",
    "        hessInv=np.linalg.inv(hess)\n",
    "#         print(hessInv.shape)\n",
    "        grad=gradient(y,gzCall,x)\n",
    "#         print(grad.shape)\n",
    "        theta1=theta-np.dot(hessInv,grad)\n",
    "        theta=theta1\n",
    "    print(theta)\n",
    "    print(theta.shape)\n",
    "\n",
    "logisticRegression(x,y)"
   ]
  },
  {
   "cell_type": "code",
   "execution_count": 9,
   "metadata": {},
   "outputs": [
    {
     "name": "stdout",
     "output_type": "stream",
     "text": [
      "[[ 0.40125316]\n",
      " [ 2.5885477 ]\n",
      " [-2.72558849]]\n",
      "(100, 3)\n",
      "(3, 100)\n"
     ]
    }
   ],
   "source": [
    "def plotting():\n",
    "    %matplotlib qt\n",
    "#     print(x)\n",
    "    print(theta)\n",
    "\n",
    "    temp1=np.array((X1[0],X1[1],y.T[0])).T\n",
    "    print(temp1.shape)\n",
    "    temp2=temp1.T\n",
    "    print(temp2.shape)\n",
    "    \n",
    "    positiveX1=temp1[temp1[:,2] == 1]\n",
    "    negativeX1=temp1[temp1[:,2] == 0]\n",
    "    positiveX=positiveX1[:,:2].T\n",
    "\n",
    "    negativeX=negativeX1[:,:2].T\n",
    "    \n",
    "    fig, ax = plt.subplots()\n",
    "    ax.plot(positiveX[0],positiveX[1],\"bo\",color='red',marker='o',label='Class 1')\n",
    "    ax.plot(negativeX[0],negativeX[1],\"bo\",color='blue',marker='*',label='Class 0') \n",
    "    ax.set_ylabel('X2')\n",
    "    ax.set_xlabel('X1')\n",
    "    plotLineX=np.linspace(-3,3,100)\n",
    "    plotLineX1=np.array((np.ones(100),plotLineX)).T\n",
    "#     print(plotLineX)\n",
    "    thetaForPlot=theta[:2,:]\n",
    "#     print(thetaForPlot)\n",
    "    prod1 = -1*np.dot(plotLineX1,thetaForPlot)\n",
    "#     print(\"prod1 ka shape\")\n",
    "#     print(prod1.shape)\n",
    "#     print(\"printing theta 2 0\")\n",
    "#     print(theta[])\n",
    "    prod = prod1.T /theta[2][0]\n",
    "#     print(\"prod ka shape\")\n",
    "#     print(prod.shape)\n",
    "    plotLineY=prod[0]\n",
    "#     print(\"plotLineX.shape\")\n",
    "#     print(plotLineX.shape)\n",
    "    \n",
    "#     print(\"finally printing the shape  of X\")\n",
    "#     print(plotLineX.shape)\n",
    "#     print(\"finally printing the shape of Y\")\n",
    "#     print(plotLineY.shape)\n",
    "    \n",
    "    ax.plot(plotLineX,plotLineY,color='black',label='Decision Boundary')\n",
    "    ax.legend(loc='upper left')\n",
    "    plt.show()\n",
    "    \n",
    "#     hypothesis1 = np.asarray(hypothesis).reshape(100,1)\n",
    "#     print(x)\n",
    "#     print(x.shape)\n",
    "#     print(hypothesis1)\n",
    "#     plt.scatter(X1,y)\n",
    "#     plt.scatter(X1,hypothesis1)\n",
    "#     plt.show()\n",
    "    \n",
    "#     print(hypothesis)\n",
    "plotting()"
   ]
  },
  {
   "cell_type": "code",
   "execution_count": null,
   "metadata": {},
   "outputs": [],
   "source": []
  }
 ],
 "metadata": {
  "kernelspec": {
   "display_name": "Python 3",
   "language": "python",
   "name": "python3"
  },
  "language_info": {
   "codemirror_mode": {
    "name": "ipython",
    "version": 3
   },
   "file_extension": ".py",
   "mimetype": "text/x-python",
   "name": "python",
   "nbconvert_exporter": "python",
   "pygments_lexer": "ipython3",
   "version": "3.6.9"
  }
 },
 "nbformat": 4,
 "nbformat_minor": 2
}
