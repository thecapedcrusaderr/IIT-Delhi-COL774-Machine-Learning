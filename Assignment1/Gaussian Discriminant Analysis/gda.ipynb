{
 "cells": [
  {
   "cell_type": "code",
   "execution_count": 1,
   "metadata": {},
   "outputs": [],
   "source": [
    "import numpy as np\n",
    "import math\n",
    "from math import log\n",
    "import pandas as pd\n",
    "import matplotlib.pyplot as plt"
   ]
  },
  {
   "cell_type": "code",
   "execution_count": 2,
   "metadata": {},
   "outputs": [
    {
     "name": "stdout",
     "output_type": "stream",
     "text": [
      "printing postive and negative class\n"
     ]
    }
   ],
   "source": [
    "%matplotlib qt\n",
    "xLoad = np.loadtxt( 'q4x.dat' )\n",
    "# print(xLoad)\n",
    "# print(x)\n",
    "yStr = np.loadtxt('q4y.dat',dtype='str')\n",
    "yNmr = np.asarray([0  if x=='Alaska' else 1 for x in yStr])\n",
    "\n",
    "# print(yNmr)\n",
    "\n",
    "xs = ((xLoad - xLoad.mean(axis=0))/xLoad.std(axis=0))\n",
    "# print(norX)\n",
    "xWithIcpt=np.array((np.ones(100),xs.T[0],xs.T[1])).T\n",
    "\n",
    "classifyMatrix = np.array((xWithIcpt.T[1],xWithIcpt.T[2],yNmr)).T\n",
    "# print(classifyMatrix)\n",
    "\n",
    "positiveClass1=classifyMatrix[classifyMatrix[:,2] == 1]\n",
    "negativeClass1=classifyMatrix[classifyMatrix[:,2] == 0]\n",
    "\n",
    "# print(\"printing positive class\")\n",
    "positiveClass=positiveClass1[:,:2]\n",
    "negativeClass=negativeClass1[:,:2]\n",
    "\n",
    "print(\"printing postive and negative class\")\n",
    "# print(positiveClass)\n",
    "# print(negativeClass)\n",
    "# negativeX1=temp1[temp1[:,2] == 0]\n",
    "# classifyMatrix0 = \n",
    "\n",
    "# print(x)\n",
    "# print(xWithIcpt.shape)\n",
    "#Assigning 0 to Alaska and 1 to Canada. will use it if needed in the future"
   ]
  },
  {
   "cell_type": "code",
   "execution_count": null,
   "metadata": {},
   "outputs": [],
   "source": [
    "\n"
   ]
  },
  {
   "cell_type": "code",
   "execution_count": 3,
   "metadata": {},
   "outputs": [
    {
     "name": "stdout",
     "output_type": "stream",
     "text": [
      "[[-0.75529433]\n",
      " [ 0.68509431]]\n",
      "[[ 0.75529433]\n",
      " [-0.68509431]]\n",
      "printing xref Copy inside\n",
      "[[ 0.42953048 -0.02247228]\n",
      " [-0.02247228  0.53064579]]\n"
     ]
    }
   ],
   "source": [
    "# print(\"initial x\")\n",
    "# print(xs[:5])\n",
    "\n",
    "def phi(Y):\n",
    "    number=np.count_nonzero(Y==1)\n",
    "    a=Y.size\n",
    "    return number/a\n",
    "\n",
    "phii=phi(yNmr)\n",
    "# print(phii)\n",
    "\n",
    "\n",
    "def mu0(X,Y):\n",
    "\n",
    "    number=np.count_nonzero(Y==0)\n",
    "\n",
    "    paraY=np.asarray([0 if p==1 else 1 for p in Y])\n",
    "\n",
    "    prodY=(np.dot(paraY,X)).reshape(2,1)\n",
    "\n",
    "    out=prodY/number\n",
    "    return out\n",
    "\n",
    "# print(\"printing x and yNmr\")\n",
    "# print(x[:5])\n",
    "# print(yNmr[:5])\n",
    "\n",
    "    \n",
    "def mu1(X,Y):\n",
    "    number=np.count_nonzero(Y==1)\n",
    "    prodY=np.dot(Y.T,X).reshape(2,1)\n",
    "    out=prodY/number\n",
    "    return out\n",
    "\n",
    "# print(\"printing bahar se\")\n",
    "# print(mu0(x,yNmr))\n",
    "# print(mu0(x,yNmr))\n",
    "# print(mu0(x,yNmr))\n",
    "# print(\"printing small x\")\n",
    "# print(xs[:5])\n",
    "\n",
    "muu0=mu0(xs,yNmr)\n",
    "\n",
    "\n",
    "# print(\"printing mu0 and mu1\")\n",
    "print(muu0)\n",
    "muu1=mu1(xs,yNmr)\n",
    "print(muu1)\n",
    "\n",
    "def covariance(X,Y,muuuu0,muuuu1):\n",
    "    xrefCov=np.copy(X)\n",
    "    print(\"printing xref Copy inside\")\n",
    "#     print(xrefCov)\n",
    "    yrefCov=np.copy(Y)\n",
    "#     print(\"printing x inside covariance at start\")\n",
    "#     print(xs[:5])\n",
    "    length=Y.size\n",
    "#     print(\"printing length\", length)\n",
    "    for i in range(length):\n",
    "        if(yrefCov[i]==1):\n",
    "            xrefCov[i]=xrefCov[i]-muuuu1.T\n",
    "        else:\n",
    "            xrefCov[i]=xrefCov[i]-muuuu0.T\n",
    "    prod=(np.dot(xrefCov.T,xrefCov))/length\n",
    "#     print(\"printing x inside covariance at last\")\n",
    "#     print(xs[:5])\n",
    "    return prod\n",
    "    \n",
    "covar=covariance(xs,yNmr,muu0,muu1)\n",
    "print(covar)\n",
    "\n",
    "def decisionBoundary(phii,coVar,mU0,mU1):\n",
    "    boundary=[]\n",
    "    plotlineX=np.linspace(-3,3,100)\n",
    "    logTerm=math.log((phii/(1-phii)),2) \n",
    "    mu0Term=np.dot(np.dot(mU0.T,np.linalg.inv(coVar)),mU0)\n",
    "    mu1Term=np.dot(np.dot(mU1.T,np.linalg.inv(coVar)),mU1)\n",
    "    muTerm=(-1*(-1*mu0Term+mu1Term)/2)\n",
    "    sigmaMu0=np.dot(np.linalg.inv(coVar),mU0)\n",
    "    sigmaMu1=np.dot(np.linalg.inv(coVar),mU1)\n",
    "    rhsTerm=logTerm+muTerm\n",
    "    for i in range(plotlineX.size):\n",
    "        temp1=plotlineX[i]*-1*(sigmaMu0[0][0]-sigmaMu1[0][0])\n",
    "        temp2=rhsTerm-temp1\n",
    "        temp3 = -1*(sigmaMu0[1][0]-sigmaMu1[1][0])\n",
    "#         print(\"temp 2 is :\",sigmaMu0[0][0]-sigmaMu1[0][0])\n",
    "#         print(\"temp 3 is : \",temp3)\n",
    "#         print(\"checking dimension of temp2\",temp2.shape)\n",
    "#         print(\"checking dimension of temp3\",temp3.shape)\n",
    "        boundary.append((temp2/temp3)[0][0])\n",
    "#         break\n",
    "    return plotlineX,boundary\n",
    "\n",
    "\n",
    "outX0,outX1=decisionBoundary(phii,covar,muu0,muu1)\n",
    "# print(\"printing outX0\")\n",
    "# print(outX0)\n",
    "# print(\"printing outX1\")\n",
    "# print(\"printing x1\",outX0)\n",
    "# print(\"printing boundary\")\n",
    "# print(outX1)\n",
    "def plotting(outX0,outX1):\n",
    "    fig, ax = plt.subplots()\n",
    "    ax.plot(positiveClass.T[0],positiveClass.T[1],\"bo\",color='red',marker='o',label='Canada [1]')\n",
    "    ax.plot(negativeClass.T[0],negativeClass.T[1],\"bo\",color='blue',marker='*',label='Alaska [0]')\n",
    "    ax.plot(outX0,outX1,color='green',label='Linear Decision Boundary')\n",
    "    ax.legend()\n",
    "    plt.show()\n",
    "\n",
    "plotting(outX0,outX1)"
   ]
  },
  {
   "cell_type": "code",
   "execution_count": 4,
   "metadata": {},
   "outputs": [
    {
     "name": "stdout",
     "output_type": "stream",
     "text": [
      "[[ 0.38158978 -0.15486516]\n",
      " [-0.15486516  0.64773717]]\n"
     ]
    }
   ],
   "source": [
    "def covar0quad(MU0,X,Y):\n",
    "    length=np.count_nonzero(Y==0)\n",
    "    xReference = np.copy(X)\n",
    "    yReference = np.copy(Y)\n",
    "    \n",
    "    for i in range(Y.size):\n",
    "        if(yReference[i]==0):\n",
    "            xReference[i]=xReference[i]-MU0.T\n",
    "        else:\n",
    "            xReference[i]-=xReference[i]\n",
    "    \n",
    "    prod=np.dot(xReference.T,xReference)/length\n",
    "    return prod\n",
    "\n",
    "covar0=covar0quad(muu0,xs,yNmr)\n",
    "print(covar0)"
   ]
  },
  {
   "cell_type": "code",
   "execution_count": 5,
   "metadata": {},
   "outputs": [
    {
     "name": "stdout",
     "output_type": "stream",
     "text": [
      "[[0.47747117 0.1099206 ]\n",
      " [0.1099206  0.41355441]]\n",
      "[[ 2.23087379 -0.59295458]\n",
      " [-0.59295458  2.57566573]]\n"
     ]
    }
   ],
   "source": [
    "def covar1quad(MU1,X,Y):\n",
    "    length=np.count_nonzero(Y==1)\n",
    "    xReference = np.copy(X)\n",
    "    yReference = np.copy(Y)\n",
    "    \n",
    "    for i in range(Y.size):\n",
    "        if(yReference[i]==1):\n",
    "            xReference[i]=xReference[i]-MU1.T\n",
    "        else:\n",
    "            xReference[i]-=xReference[i]\n",
    "    \n",
    "    prod=np.dot(xReference.T,xReference)/length\n",
    "    return prod\n",
    "\n",
    "covar1=covar1quad(muu1,xs,yNmr)\n",
    "print(covar1)\n",
    "print(np.linalg.inv(covar1))"
   ]
  },
  {
   "cell_type": "code",
   "execution_count": 6,
   "metadata": {},
   "outputs": [],
   "source": [
    "def quadraticDecisionBoundary(Phi,MU0,MU1,Covar1,Covar0):\n",
    "    boundary1,boundary2=[],[]\n",
    "    sigma1Inv=np.linalg.inv(Covar1)\n",
    "#     print(sigma1Inv)\n",
    "    sigma0Inv=np.linalg.inv(Covar0)\n",
    "#     print(sigma0Inv)\n",
    "    a1,b1,c1=sigma1Inv[0][0],sigma1Inv[1][1],sigma1Inv[1][0]\n",
    "    a0,b0,c0=sigma0Inv[0][0],sigma0Inv[1][1],sigma0Inv[1][0]\n",
    "    temp1=np.dot(MU1.T,sigma1Inv)\n",
    "    p1,q1=temp1[0][0],temp1[0][1]\n",
    "    temp2=np.dot(MU0.T,sigma0Inv)\n",
    "    p0,q0=temp2[0][0],temp2[0][1]\n",
    "    \n",
    "    temp3=np.dot(np.dot(MU1.T,sigma1Inv),MU1)\n",
    "    temp4=np.dot(np.dot(MU0.T,sigma0Inv),MU0)\n",
    "    temp5=((temp3-temp4)/2)[0][0]-math.log((Phi/(1-Phi)),2)\n",
    "    temp6=math.log((math.sqrt(np.linalg.det(Covar0)/np.linalg.det(Covar1))),2)\n",
    "    cSupport=temp5-temp6\n",
    "    \n",
    "    plotLineX=np.linspace(-2,2,100)\n",
    "    for i in range(plotLineX.size):\n",
    "        a=(b1-b0)/2\n",
    "        b=plotLineX[i]*(c1-c0) + (q0-q1)\n",
    "        cSupp=((plotLineX[i]**2) * (a1-a0))/2 + (p0-p1)*plotLineX[i]\n",
    "        c=cSupport+cSupp\n",
    "#         print(a,b,c)\n",
    "        boundary1.append((-1*b + math.sqrt(b**2 - 4*a*c))/(2*a))\n",
    "        boundary2.append((-1*b - math.sqrt(b**2 - 4*a*c))/(2*a))\n",
    "    return plotLineX,boundary1,boundary2\n",
    "\n",
    "\n",
    "(t1,t2,t3)=quadraticDecisionBoundary(phii,muu0,muu1,covar1,covar0)\n",
    "# print(t1)\n",
    "# print(t2)\n",
    "# print(t3)"
   ]
  },
  {
   "cell_type": "code",
   "execution_count": 7,
   "metadata": {},
   "outputs": [],
   "source": [
    "def plottingQuad(outX0,outX1,outX0ForQuad,outX1PD,outX1ND):\n",
    "    fig, ax = plt.subplots()\n",
    "    ax.plot(positiveClass.T[0],positiveClass.T[1],\"bo\",color='red',marker='p',label='Canada [1]')\n",
    "    ax.plot(negativeClass.T[0],negativeClass.T[1],\"bo\",color='blue',marker='*',label='Alaska [0]')\n",
    "    ax.plot(outX0,outX1,color='green',label='Linear Decision Boundary')\n",
    "    ax.plot(outX0ForQuad,outX1PD,color='black',label='Quadratic Decision Boundary')\n",
    "    ax.legend()\n",
    "    plt.show()\n",
    "\n",
    "plottingQuad(outX0,outX1,t1,t2,t3)"
   ]
  },
  {
   "cell_type": "code",
   "execution_count": 8,
   "metadata": {},
   "outputs": [],
   "source": [
    "#For Testing purpose"
   ]
  },
  {
   "cell_type": "code",
   "execution_count": 9,
   "metadata": {},
   "outputs": [
    {
     "name": "stdout",
     "output_type": "stream",
     "text": [
      "[[ 0.75529433]\n",
      " [-0.68509431]]\n",
      "[[-0.75529433]\n",
      " [ 0.68509431]]\n"
     ]
    }
   ],
   "source": [
    "print(muu1)\n",
    "print(muu0)\n",
    "# print(type(yNmr))\n",
    "# print(yNmr)\n",
    "# reqY=np.where(yNmr==1)\n",
    "# print(reqY.shape)\n",
    "# print(reqY)"
   ]
  }
 ],
 "metadata": {
  "kernelspec": {
   "display_name": "Python 3",
   "language": "python",
   "name": "python3"
  },
  "language_info": {
   "codemirror_mode": {
    "name": "ipython",
    "version": 3
   },
   "file_extension": ".py",
   "mimetype": "text/x-python",
   "name": "python",
   "nbconvert_exporter": "python",
   "pygments_lexer": "ipython3",
   "version": "3.6.9"
  }
 },
 "nbformat": 4,
 "nbformat_minor": 2
}
