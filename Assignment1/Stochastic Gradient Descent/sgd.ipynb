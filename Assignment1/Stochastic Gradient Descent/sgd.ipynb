{
 "cells": [
  {
   "cell_type": "code",
   "execution_count": 1,
   "metadata": {},
   "outputs": [
    {
     "name": "stdout",
     "output_type": "stream",
     "text": [
      "(1000000,)\n"
     ]
    }
   ],
   "source": [
    "import numpy as np\n",
    "import pandas as pd\n",
    "import matplotlib.pyplot as plt\n",
    "from matplotlib import animation\n",
    "import math\n",
    "import time\n",
    "import csv\n",
    "from mpl_toolkits.mplot3d import Axes3D\n",
    "x0=np.ones(1000000)\n",
    "x1=np.random.normal(3,2,1000000)\n",
    "print(x1.shape)\n",
    "x2=np.random.normal(-1,2,1000000)\n",
    "x=np.array((x0,x1,x2),dtype=float)\n",
    "# print(x.shape)\n",
    "# print(x)\n",
    "thetasObtained=[]"
   ]
  },
  {
   "cell_type": "code",
   "execution_count": 2,
   "metadata": {},
   "outputs": [
    {
     "name": "stdout",
     "output_type": "stream",
     "text": [
      "[[3]\n",
      " [1]\n",
      " [2]]\n",
      "(3, 1)\n"
     ]
    }
   ],
   "source": [
    "theta=np.array([3,1,2])\n",
    "theta=theta.reshape(3,1)\n",
    "thetaN=np.zeros((3,1))\n",
    "print(theta)\n",
    "print(thetaN.shape)\n",
    "# print(thetaN[2][0])"
   ]
  },
  {
   "cell_type": "code",
   "execution_count": null,
   "metadata": {},
   "outputs": [],
   "source": []
  },
  {
   "cell_type": "code",
   "execution_count": 3,
   "metadata": {},
   "outputs": [
    {
     "name": "stdout",
     "output_type": "stream",
     "text": [
      "shuffling data now\n",
      "[[ 1.00000000e+00  4.14725818e+00  7.94114373e-01  9.92512542e+00]\n",
      " [ 1.00000000e+00  5.74640545e+00  6.76322574e-03  9.20543749e+00]\n",
      " [ 1.00000000e+00  3.02655443e+00  1.49017556e+00  8.55138213e+00]\n",
      " ...\n",
      " [ 1.00000000e+00  3.94955563e+00 -4.06012614e-01  5.74636879e+00]\n",
      " [ 1.00000000e+00  2.39489145e+00 -2.68504822e+00  6.09886924e-01]\n",
      " [ 1.00000000e+00  2.18036357e+00 -3.46311934e+00 -2.55311532e-01]]\n",
      "now getting data to the required form\n"
     ]
    }
   ],
   "source": [
    "# print(\"-------------------------------\")\n",
    "hyp=np.dot(theta.T,x)\n",
    "# print(hyp)\n",
    "# print(hyp.shape)\n",
    "# print(\"--------------------------------\")\n",
    "\n",
    "\n",
    "hyp1=np.random.normal(loc=hyp,scale=math.sqrt(2))\n",
    "# print(hyp1.shape)\n",
    "# print(hyp1)\n",
    "# print(hyp1[0])\n",
    "# print(hyp1[0].shape)\n",
    "y=hyp1.T\n",
    "\n",
    "\n",
    "dataToShuffle=np.append(x,y.T,axis=0)\n",
    "# print(\"initially\")\n",
    "# print(dataToShuffle)\n",
    "dataToShuffle=dataToShuffle.T\n",
    "# print(\"finally\")\n",
    "# print(dataToShuffle)\n",
    "# print(dataToShuffle.shape)\n",
    "\n",
    "print(\"shuffling data now\")\n",
    "np.random.shuffle(dataToShuffle)\n",
    "print(dataToShuffle)\n",
    "\n",
    "\n",
    "\n",
    "print(\"now getting data to the required form\")\n",
    "x=dataToShuffle[:,0:3].T\n",
    "y=dataToShuffle[:,3:4]\n",
    "# print(x)\n",
    "# print(x.shape)\n",
    "# print(y)\n",
    "# print(y.shape)\n",
    "\n",
    "\n",
    "# plt.scatter(x1,hyp1[0])\n",
    "# plt.scatter(x2,hyp1[0])\n",
    "# plt.show()"
   ]
  },
  {
   "cell_type": "code",
   "execution_count": 4,
   "metadata": {},
   "outputs": [
    {
     "name": "stdout",
     "output_type": "stream",
     "text": [
      "(3, 1)\n",
      "(1, 3)\n",
      "(3, 1000)\n",
      "(1, 1000)\n",
      "(1000, 1)\n",
      "printing x here [[ 1.          1.          1.         ...  1.          1.\n",
      "   1.        ]\n",
      " [ 4.14725818  5.74640545  3.02655443 ...  3.94955563  2.39489145\n",
      "   2.18036357]\n",
      " [ 0.79411437  0.00676323  1.49017556 ... -0.40601261 -2.68504822\n",
      "  -3.46311934]]\n",
      "printing x ka shape (3, 1000000)\n",
      "printing y  here [[ 9.92512542]\n",
      " [ 9.20543749]\n",
      " [ 8.55138213]\n",
      " ...\n",
      " [ 5.74636879]\n",
      " [ 0.60988692]\n",
      " [-0.25531153]]\n",
      "printing y ka shape (1000000, 1)\n"
     ]
    }
   ],
   "source": [
    "#Sampling done above\n",
    "#This is the space for debugging\n",
    "# print(x)\n",
    "# print(x.shape)\n",
    "(x[:,:1])\n",
    "i=0\n",
    "print(theta.shape)\n",
    "# print(prod.T.shape)\n",
    "print(theta.T.shape)\n",
    "# print(x[:,i:i+1000])\n",
    "print(x[:,i:i+1000].shape)\n",
    "prod=np.dot(theta.T,x[:,i:i+1000])\n",
    "print(prod.shape)\n",
    "diff=y[i:i+1000]-prod.T\n",
    "print(diff.shape)\n",
    "x[1]\n",
    "\n",
    "print(\"printing x here\" , x)\n",
    "print(\"printing x ka shape\", x.shape)\n",
    "print(\"printing y  here\", y)\n",
    "print(\"printing y ka shape\", y.shape)"
   ]
  },
  {
   "cell_type": "code",
   "execution_count": 5,
   "metadata": {},
   "outputs": [],
   "source": [
    "def costFun(mPara,yPara,thetaPara,xPara):\n",
    "    prod=np.dot(thetaPara.T,xPara)\n",
    "    \n",
    "    diff=yPara-prod.T\n",
    "    \n",
    "    out=np.square(diff)\n",
    "    return (1/(2*mPara))*np.sum(out)"
   ]
  },
  {
   "cell_type": "code",
   "execution_count": 6,
   "metadata": {},
   "outputs": [],
   "source": [
    "theta0ForPlot,theta1ForPlot,theta2ForPlot=[0],[0],[0]"
   ]
  },
  {
   "cell_type": "code",
   "execution_count": 7,
   "metadata": {},
   "outputs": [],
   "source": [
    "def stochGrad(yRef,thetaN,xRef,bSize,eta):\n",
    "\n",
    "    prod=np.dot(thetaN.T,xRef)\n",
    "    diff=yRef-prod.T\n",
    "    \n",
    "    ref1=np.copy(thetaN[0][0])\n",
    "    ref2=np.copy(thetaN[1][0])\n",
    "    ref3=np.copy(thetaN[2][0])\n",
    "    \n",
    "    thetaN[0][0]=ref1+(eta*np.sum(diff))/bSize\n",
    "\n",
    "    (a,b)=xRef.shape\n",
    "\n",
    "    \n",
    "    check1 = np.dot(diff.T,xRef[1].reshape(b,1))\n",
    "    check2 = np.dot(diff.T,xRef[2].reshape(b,1))\n",
    "#     print(check1.shape)\n",
    "\n",
    "    thetaN[1][0]=ref2+(eta*check1[0][0])/bSize\n",
    "    thetaN[2][0]=ref3+(eta*check2[0][0])/bSize\n",
    "    theta0ForPlot.append(thetaN[0][0])\n",
    "    theta1ForPlot.append(thetaN[1][0])\n",
    "    theta2ForPlot.append(thetaN[2][0])\n"
   ]
  },
  {
   "cell_type": "code",
   "execution_count": 8,
   "metadata": {},
   "outputs": [
    {
     "name": "stdout",
     "output_type": "stream",
     "text": [
      "Time it took to converge is \n",
      "7.418407201766968\n",
      "Number of iterations is\n",
      "22000\n",
      "[[2.99001896]\n",
      " [1.00196997]\n",
      " [1.99991633]]\n"
     ]
    }
   ],
   "source": [
    "def originStoch(bSize,convergeCriteria):\n",
    "    eta=0.001\n",
    "    minmIter=1000\n",
    "    costInit,costFinal,i,costcheckI,costcheckF=0,0,0,0,0\n",
    "    start=time.time()\n",
    "    \n",
    "    count=0\n",
    "    \n",
    "    for j in range(2*minmIter):\n",
    "        costDummy=costFun(bSize,y[i:i+bSize],thetaN,x[:,i:i+bSize])\n",
    "        temp=stochGrad(y[i:i+bSize],thetaN,x[:,i:i+bSize],bSize,eta)\n",
    "        i=(i+bSize)%1000000\n",
    "        if(j<minmIter):\n",
    "            costInit+=costDummy\n",
    "        else:\n",
    "            costFinal+=costDummy\n",
    "    count+=(2*minmIter)\n",
    "    \n",
    "    costcheckI,costcheckF=costInit/minmIter,costFinal/minmIter\n",
    "#     print(costcheckI)\n",
    "#     print(costcheckF)\n",
    "    \n",
    "    while(True):\n",
    "        costSupp=0\n",
    "        \n",
    "        if(abs(costcheckI-costcheckF) < convergeCriteria):\n",
    "            break\n",
    "        for k in range(minmIter):\n",
    "            costDummy=costFun(bSize,y[i:i+bSize],thetaN,x[:,i:i+bSize])\n",
    "            stochGrad(y[i:i+bSize],thetaN,x[:,i:i+bSize],bSize,eta)\n",
    "            i=(i+bSize)%1000000\n",
    "            costSupp+=costDummy\n",
    "            count+=1\n",
    "        costInit=costFinal\n",
    "        costFinal=costSupp\n",
    "        costcheckI = costInit/minmIter\n",
    "        costcheckF = costFinal/minmIter\n",
    "    \n",
    "    finalTime=time.time()-start\n",
    "    print(\"Time it took to converge is \")\n",
    "    print(finalTime)\n",
    "    print(\"Number of iterations is\")\n",
    "    print(count)\n",
    "    return thetaN\n",
    "\n",
    "#originStoch take batch size and convergeCriteria as parameters\n",
    "thetaN=np.zeros((3,1))\n",
    "thetaFromHyp=originStoch(10000,1e-5)\n",
    "print(thetaFromHyp)\n",
    "thetasObtained.append(thetaFromHyp)\n"
   ]
  },
  {
   "cell_type": "code",
   "execution_count": 9,
   "metadata": {},
   "outputs": [
    {
     "data": {
      "text/plain": [
       "<matplotlib.animation.FuncAnimation at 0x7ff91007dfd0>"
      ]
     },
     "execution_count": 9,
     "metadata": {},
     "output_type": "execute_result"
    }
   ],
   "source": [
    "# print(theta0ForPlot)\n",
    "# print(theta1ForPlot)\n",
    "# print(theta2ForPlot)\n",
    "def plotting():\n",
    "    %matplotlib qt\n",
    "    fig = plt.figure()\n",
    "    axis = fig.add_subplot(111, projection='3d')\n",
    "    line, = axis.plot([],[],[],lw=1,color='black',markersize=5)\n",
    "    axis.set_xlabel('Theta0')\n",
    "    axis.set_ylabel('Theta1')\n",
    "    axis.set_zlabel('Theta2')\n",
    "    axis.set_xlim(-0.5, 3.5)\n",
    "    axis.set_ylim(-0.5,2)\n",
    "    axis.set_zlim(-0.5,2.5)\n",
    "    def animate(i):\n",
    "        line.set_data(theta0ForPlot[:i],theta1ForPlot[:i])\n",
    "        line.set_3d_properties(theta2ForPlot[:i])\n",
    "        return line,\n",
    "    plotAnimation = animation.FuncAnimation(fig, animate,interval=0.00001,repeat=False)\n",
    "    plt.show()\n",
    "    return plotAnimation\n",
    "plotting()\n",
    "# # theta0ForPlot,theta1ForPlot,theta2ForPlot=[0],[0],[0]"
   ]
  },
  {
   "cell_type": "code",
   "execution_count": 10,
   "metadata": {},
   "outputs": [],
   "source": [
    "# theta=np.array([3,1,2])\n",
    "# theta=theta.reshape(3,1)\n",
    "# print(costFun(1000000,y,theta,x))"
   ]
  },
  {
   "cell_type": "code",
   "execution_count": 11,
   "metadata": {},
   "outputs": [
    {
     "name": "stdout",
     "output_type": "stream",
     "text": [
      "[[  1.      1.      1.    ...   1.      1.      1.   ]\n",
      " [ 16.678   6.583 -19.837 ...   6.381   3.138   5.502]\n",
      " [ 13.018  -5.539   6.089 ...   2.484  -5.425  -8.332]] (3, 10000)\n",
      "[[45.537]\n",
      " [-1.17 ]\n",
      " [-3.646]\n",
      " ...\n",
      " [13.018]\n",
      " [-6.873]\n",
      " [-7.749]] (10000, 1)\n",
      "[[3]\n",
      " [1]\n",
      " [2]]\n",
      "0.9829469215000001\n"
     ]
    }
   ],
   "source": [
    "load=pd.read_csv(\"q2test.csv\")\n",
    "testData=np.array(load)\n",
    "yTest=testData[:,2:3]\n",
    "xTestInit=testData[:,0:2].T\n",
    "xTest=np.array((np.ones(10000),xTestInit[0],xTestInit[1]))\n",
    "print(xTest,xTest.shape)\n",
    "print(yTest,yTest.shape)\n",
    "\n",
    "def testStoch(thetaTestPar,xTestPar,yTestPar):\n",
    "    prod=np.dot(thetaTestPar.T,xTestPar).T\n",
    "    err=(yTestPar-prod)**2\n",
    "    error=np.sum(err)\n",
    "    return error/(2*yTestPar.size)\n",
    "\n",
    "thetaForTesting=np.array([[3],[1],[2]])\n",
    "print(thetaForTesting)\n",
    "error = testStoch(thetaForTesting,xTest,yTest)\n",
    "print(error)\n",
    "\n"
   ]
  },
  {
   "cell_type": "code",
   "execution_count": null,
   "metadata": {},
   "outputs": [],
   "source": []
  }
 ],
 "metadata": {
  "kernelspec": {
   "display_name": "Python 3",
   "language": "python",
   "name": "python3"
  },
  "language_info": {
   "codemirror_mode": {
    "name": "ipython",
    "version": 3
   },
   "file_extension": ".py",
   "mimetype": "text/x-python",
   "name": "python",
   "nbconvert_exporter": "python",
   "pygments_lexer": "ipython3",
   "version": "3.6.9"
  }
 },
 "nbformat": 4,
 "nbformat_minor": 2
}
